{
  "nbformat": 4,
  "nbformat_minor": 0,
  "metadata": {
    "colab": {
      "name": "my first notebook.ipynb",
      "provenance": [],
      "authorship_tag": "ABX9TyMAlWOY+GXOHQNIDo7djnBv",
      "include_colab_link": true
    },
    "kernelspec": {
      "name": "python3",
      "display_name": "Python 3"
    },
    "language_info": {
      "name": "python"
    }
  },
  "cells": [
    {
      "cell_type": "markdown",
      "metadata": {
        "id": "view-in-github",
        "colab_type": "text"
      },
      "source": [
        "<a href=\"https://colab.research.google.com/github/Abhiram122/SMALL-ML/blob/main/my_first_notebook.ipynb\" target=\"_parent\"><img src=\"https://colab.research.google.com/assets/colab-badge.svg\" alt=\"Open In Colab\"/></a>"
      ]
    },
    {
      "cell_type": "code",
      "metadata": {
        "colab": {
          "base_uri": "https://localhost:8080/"
        },
        "id": "fAusYaq_tzPK",
        "outputId": "a0a9a6df-f017-4439-dee2-b29b5b87a3f0"
      },
      "source": [
        "n=int(input())\n",
        "if(n%2==0):\n",
        "      print(\"n is even number\")\n",
        "else:\n",
        "      print(\"n is odd number\")"
      ],
      "execution_count": 4,
      "outputs": [
        {
          "output_type": "stream",
          "text": [
            "4\n",
            "n is even number\n"
          ],
          "name": "stdout"
        }
      ]
    },
    {
      "cell_type": "code",
      "metadata": {
        "colab": {
          "base_uri": "https://localhost:8080/"
        },
        "id": "OoobyDD6vcVm",
        "outputId": "450135f6-4922-4e94-f1b0-ac603289dd8a"
      },
      "source": [
        "i=input().split()\n",
        "a=sorted(i,reverse=True)\n",
        "for i in a:\n",
        "  print(i,end=\"\")\n"
      ],
      "execution_count": 6,
      "outputs": [
        {
          "output_type": "stream",
          "text": [
            "560537\n",
            "560537"
          ],
          "name": "stdout"
        }
      ]
    },
    {
      "cell_type": "code",
      "metadata": {
        "colab": {
          "base_uri": "https://localhost:8080/"
        },
        "id": "SDAS8gh_wypo",
        "outputId": "81316bea-3d9d-42fa-cb01-9dedeb603b8d"
      },
      "source": [
        "a=int(input())\n",
        "b=int(input())\n",
        "for i in range(1,b+1):\n",
        "  print(a*i,end=\"\")\n",
        "            "
      ],
      "execution_count": 7,
      "outputs": [
        {
          "output_type": "stream",
          "text": [
            "2\n",
            "5\n",
            "246810"
          ],
          "name": "stdout"
        }
      ]
    }
  ]
}